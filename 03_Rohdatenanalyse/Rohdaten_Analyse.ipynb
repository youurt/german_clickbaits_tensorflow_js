{
  "nbformat": 4,
  "nbformat_minor": 0,
  "metadata": {
    "colab": {
      "name": "Rohdaten Analyse",
      "provenance": [],
      "collapsed_sections": [],
      "toc_visible": true
    },
    "kernelspec": {
      "name": "python3",
      "display_name": "Python 3"
    },
    "accelerator": "GPU"
  },
  "cells": [
    {
      "cell_type": "markdown",
      "metadata": {
        "id": "wQFgvQqtP9Lp"
      },
      "source": [
        "# Rohdatenanalyse"
      ]
    },
    {
      "cell_type": "markdown",
      "metadata": {
        "id": "YZNiMNlXIDdT"
      },
      "source": [
        "## Importiere Abhängigkeiten\n",
        "\n",
        "\n",
        "\n",
        "\n",
        "\n",
        "\n"
      ]
    },
    {
      "cell_type": "code",
      "metadata": {
        "id": "m9au7ADt0lIP"
      },
      "source": [
        "import pandas as pd\n",
        "from collections import Counter\n",
        "import numpy as np\n",
        "import matplotlib.pyplot as plt\n",
        "import seaborn as sns\n",
        "import spacy\n",
        "\n",
        "%matplotlib inline"
      ],
      "execution_count": 40,
      "outputs": []
    },
    {
      "cell_type": "code",
      "metadata": {
        "id": "bcuaDlJCaF1J"
      },
      "source": [
        "!python -m spacy download de\n",
        "nlp = spacy.load('de')"
      ],
      "execution_count": null,
      "outputs": []
    },
    {
      "cell_type": "markdown",
      "metadata": {
        "id": "21_U-Xii0ZxC"
      },
      "source": [
        "## Laden der Daten\n",
        "Die Daten können auch aus der raw.csv geladen werden. Hier werden die Daten aus einer URL geladen."
      ]
    },
    {
      "cell_type": "code",
      "metadata": {
        "colab": {
          "base_uri": "https://localhost:8080/"
        },
        "id": "2omKO7kM0Bqu",
        "outputId": "2def87fd-618f-4987-cc14-e9efeb45bd0c"
      },
      "source": [
        "url = 'https://drive.google.com/file/d/1-_6n6LsEfOQccLQEMHz2qfyQ85c5oA7U/view?usp=sharing'\n",
        "path = 'https://drive.google.com/uc?export=download&id='+url.split('/')[-2]\n",
        "data = pd.read_csv(path)\n",
        "data = data.fillna(0)\n",
        "data = data.drop(columns=['label'])\n",
        "print(data)"
      ],
      "execution_count": 45,
      "outputs": [
        {
          "output_type": "stream",
          "text": [
            "                                                   title    origin\n",
            "0      Neue Leitlinie für Medikament zur Geburtseinle...  buzzfeed\n",
            "1      16 Menschen, die definitiv nicht in die Nähe v...  buzzfeed\n",
            "2      18 Ehemänner verraten, wann ihnen klar wurde, ...  buzzfeed\n",
            "3      18 Dinge, die du Supermarkt-Angestellten in Ze...  buzzfeed\n",
            "4      Die Bundesländer wollen mehr kranke Arbeiter e...  buzzfeed\n",
            "...                                                  ...       ...\n",
            "69392    Luis AG will ab September Elektroautos anbieten      wiki\n",
            "69393                     Politiker kritisieren Hartz IV      wiki\n",
            "69394  \"La Juive\" erstmals seit 1931 an der Bayerisch...      wiki\n",
            "69395  Neapel: Razzia gegen die Camorra – Berlusconi-...      wiki\n",
            "69396           Gazastreifen – Grenzöffnung nach Ägypten      wiki\n",
            "\n",
            "[69397 rows x 2 columns]\n"
          ],
          "name": "stdout"
        }
      ]
    },
    {
      "cell_type": "markdown",
      "metadata": {
        "id": "U_f2KAVqLKPj"
      },
      "source": [
        "## Datenreinigung"
      ]
    },
    {
      "cell_type": "markdown",
      "metadata": {
        "id": "8dW1KMh_JLiF"
      },
      "source": [
        "Einige Felder müssen bereinigt werden. Dieses wird mit der remove_suffix Funktion ausgeführt."
      ]
    },
    {
      "cell_type": "code",
      "metadata": {
        "id": "Sp8lpnUi_PFY"
      },
      "source": [
        "def remove_suffix(df, column_name_df, suffix):\n",
        "    return df[column_name_df].apply(\n",
        "        lambda x: x.replace(suffix, \"\"))"
      ],
      "execution_count": 46,
      "outputs": []
    },
    {
      "cell_type": "code",
      "metadata": {
        "id": "OAYClON9_WHE"
      },
      "source": [
        "data[\"title\"] = data[\"title\"].astype(str)\n",
        "data[\"title\"] = remove_suffix(data,  \"title\", \"| BRAVO\")\n",
        "data[\"title\"] = remove_suffix(data,  \"title\", \"| WEB.DE\")"
      ],
      "execution_count": 47,
      "outputs": []
    },
    {
      "cell_type": "code",
      "metadata": {
        "colab": {
          "base_uri": "https://localhost:8080/",
          "height": 419
        },
        "id": "FISVfM_PmP8R",
        "outputId": "d9984983-3d91-4557-9f59-818283f88a77"
      },
      "source": [
        "data"
      ],
      "execution_count": 48,
      "outputs": [
        {
          "output_type": "execute_result",
          "data": {
            "text/html": [
              "<div>\n",
              "<style scoped>\n",
              "    .dataframe tbody tr th:only-of-type {\n",
              "        vertical-align: middle;\n",
              "    }\n",
              "\n",
              "    .dataframe tbody tr th {\n",
              "        vertical-align: top;\n",
              "    }\n",
              "\n",
              "    .dataframe thead th {\n",
              "        text-align: right;\n",
              "    }\n",
              "</style>\n",
              "<table border=\"1\" class=\"dataframe\">\n",
              "  <thead>\n",
              "    <tr style=\"text-align: right;\">\n",
              "      <th></th>\n",
              "      <th>title</th>\n",
              "      <th>origin</th>\n",
              "    </tr>\n",
              "  </thead>\n",
              "  <tbody>\n",
              "    <tr>\n",
              "      <th>0</th>\n",
              "      <td>Neue Leitlinie für Medikament zur Geburtseinle...</td>\n",
              "      <td>buzzfeed</td>\n",
              "    </tr>\n",
              "    <tr>\n",
              "      <th>1</th>\n",
              "      <td>16 Menschen, die definitiv nicht in die Nähe v...</td>\n",
              "      <td>buzzfeed</td>\n",
              "    </tr>\n",
              "    <tr>\n",
              "      <th>2</th>\n",
              "      <td>18 Ehemänner verraten, wann ihnen klar wurde, ...</td>\n",
              "      <td>buzzfeed</td>\n",
              "    </tr>\n",
              "    <tr>\n",
              "      <th>3</th>\n",
              "      <td>18 Dinge, die du Supermarkt-Angestellten in Ze...</td>\n",
              "      <td>buzzfeed</td>\n",
              "    </tr>\n",
              "    <tr>\n",
              "      <th>4</th>\n",
              "      <td>Die Bundesländer wollen mehr kranke Arbeiter e...</td>\n",
              "      <td>buzzfeed</td>\n",
              "    </tr>\n",
              "    <tr>\n",
              "      <th>...</th>\n",
              "      <td>...</td>\n",
              "      <td>...</td>\n",
              "    </tr>\n",
              "    <tr>\n",
              "      <th>69392</th>\n",
              "      <td>Luis AG will ab September Elektroautos anbieten</td>\n",
              "      <td>wiki</td>\n",
              "    </tr>\n",
              "    <tr>\n",
              "      <th>69393</th>\n",
              "      <td>Politiker kritisieren Hartz IV</td>\n",
              "      <td>wiki</td>\n",
              "    </tr>\n",
              "    <tr>\n",
              "      <th>69394</th>\n",
              "      <td>\"La Juive\" erstmals seit 1931 an der Bayerisch...</td>\n",
              "      <td>wiki</td>\n",
              "    </tr>\n",
              "    <tr>\n",
              "      <th>69395</th>\n",
              "      <td>Neapel: Razzia gegen die Camorra – Berlusconi-...</td>\n",
              "      <td>wiki</td>\n",
              "    </tr>\n",
              "    <tr>\n",
              "      <th>69396</th>\n",
              "      <td>Gazastreifen – Grenzöffnung nach Ägypten</td>\n",
              "      <td>wiki</td>\n",
              "    </tr>\n",
              "  </tbody>\n",
              "</table>\n",
              "<p>69397 rows × 2 columns</p>\n",
              "</div>"
            ],
            "text/plain": [
              "                                                   title    origin\n",
              "0      Neue Leitlinie für Medikament zur Geburtseinle...  buzzfeed\n",
              "1      16 Menschen, die definitiv nicht in die Nähe v...  buzzfeed\n",
              "2      18 Ehemänner verraten, wann ihnen klar wurde, ...  buzzfeed\n",
              "3      18 Dinge, die du Supermarkt-Angestellten in Ze...  buzzfeed\n",
              "4      Die Bundesländer wollen mehr kranke Arbeiter e...  buzzfeed\n",
              "...                                                  ...       ...\n",
              "69392    Luis AG will ab September Elektroautos anbieten      wiki\n",
              "69393                     Politiker kritisieren Hartz IV      wiki\n",
              "69394  \"La Juive\" erstmals seit 1931 an der Bayerisch...      wiki\n",
              "69395  Neapel: Razzia gegen die Camorra – Berlusconi-...      wiki\n",
              "69396           Gazastreifen – Grenzöffnung nach Ägypten      wiki\n",
              "\n",
              "[69397 rows x 2 columns]"
            ]
          },
          "metadata": {
            "tags": []
          },
          "execution_count": 48
        }
      ]
    },
    {
      "cell_type": "markdown",
      "metadata": {
        "id": "549HhPOeJXmY"
      },
      "source": [
        "Es gibt zwei Kategorien. Wiki und Clickbaits (others). Diese werden hier gekennzeichnet."
      ]
    },
    {
      "cell_type": "code",
      "metadata": {
        "id": "KH1qNisopssO"
      },
      "source": [
        "data[\"category\"] = data[\"origin\"].apply(lambda x: \"wiki\" if x == \"wiki\" else \"others\")"
      ],
      "execution_count": 49,
      "outputs": []
    },
    {
      "cell_type": "code",
      "metadata": {
        "colab": {
          "base_uri": "https://localhost:8080/"
        },
        "id": "pAHEnhLwqfaz",
        "outputId": "a20d4adb-f616-40ef-a9ae-43634a5e6ff3"
      },
      "source": [
        "data[\"category\"]"
      ],
      "execution_count": 50,
      "outputs": [
        {
          "output_type": "execute_result",
          "data": {
            "text/plain": [
              "0        others\n",
              "1        others\n",
              "2        others\n",
              "3        others\n",
              "4        others\n",
              "          ...  \n",
              "69392      wiki\n",
              "69393      wiki\n",
              "69394      wiki\n",
              "69395      wiki\n",
              "69396      wiki\n",
              "Name: category, Length: 69397, dtype: object"
            ]
          },
          "metadata": {
            "tags": []
          },
          "execution_count": 50
        }
      ]
    },
    {
      "cell_type": "markdown",
      "metadata": {
        "id": "AYEynk2CLOBx"
      },
      "source": [
        "## Datenanalyse"
      ]
    },
    {
      "cell_type": "markdown",
      "metadata": {
        "id": "r7hoDi5oJko3"
      },
      "source": [
        "Eine Kope der Daten wird erstellt. Das Tortendiagramm zeigt die Herkunft der Clickbaits, im Rohzustand."
      ]
    },
    {
      "cell_type": "code",
      "metadata": {
        "id": "Ip2Qnp3Z-6Hv",
        "colab": {
          "base_uri": "https://localhost:8080/",
          "height": 592
        },
        "outputId": "7214a75b-c3a8-4829-dd56-7c54a2ac4ad0"
      },
      "source": [
        "datagr = data.copy()\n",
        "data_group = datagr.groupby(\"origin\").agg(\"count\")\n",
        "data_group[\"title\"].plot.pie( figsize=(10, 10), subplots=False, autopct=\"%.2f\")"
      ],
      "execution_count": 55,
      "outputs": [
        {
          "output_type": "execute_result",
          "data": {
            "text/plain": [
              "<matplotlib.axes._subplots.AxesSubplot at 0x7f31f77dc0b8>"
            ]
          },
          "metadata": {
            "tags": []
          },
          "execution_count": 55
        },
        {
          "output_type": "display_data",
          "data": {
            "image/png": "[encoded data removed]",
            "text/plain": [
              "<Figure size 720x720 with 1 Axes>"
            ]
          },
          "metadata": {
            "tags": []
          }
        }
      ]
    },
    {
      "cell_type": "markdown",
      "metadata": {
        "id": "sXYX-FnrJ_Hu"
      },
      "source": [
        "Die länge der Schlagzeilen je Kategorie und die durchschnittliche Wortlänge."
      ]
    },
    {
      "cell_type": "code",
      "metadata": {
        "colab": {
          "base_uri": "https://localhost:8080/",
          "height": 394
        },
        "id": "txx-Ae3W2NRV",
        "outputId": "b14533ac-3946-4a5d-a922-d1934e97028f"
      },
      "source": [
        "data['title'].str.len().hist(by=data['category'], color=\"g\", alpha=0.5, bins=50, stacked=True, figsize=(10, 5))"
      ],
      "execution_count": 56,
      "outputs": [
        {
          "output_type": "execute_result",
          "data": {
            "text/plain": [
              "array([<matplotlib.axes._subplots.AxesSubplot object at 0x7f31f98cdd30>,\n",
              "       <matplotlib.axes._subplots.AxesSubplot object at 0x7f31f997bfd0>],\n",
              "      dtype=object)"
            ]
          },
          "metadata": {
            "tags": []
          },
          "execution_count": 56
        },
        {
          "output_type": "display_data",
          "data": {
            "image/png": "[encoded data removed]",
            "text/plain": [
              "<Figure size 720x360 with 2 Axes>"
            ]
          },
          "metadata": {
            "tags": [],
            "needs_background": "light"
          }
        }
      ]
    },
    {
      "cell_type": "code",
      "metadata": {
        "id": "Q0uOtB__-96V"
      },
      "source": [
        "data[\"title\"] = data[\"title\"].astype(str)"
      ],
      "execution_count": 57,
      "outputs": []
    },
    {
      "cell_type": "code",
      "metadata": {
        "colab": {
          "base_uri": "https://localhost:8080/",
          "height": 456
        },
        "id": "39ioNKyN2kug",
        "outputId": "783b4bf0-76d8-40c1-f1c4-12b2e79588e3"
      },
      "source": [
        "data['title'].str.split().apply(lambda x:[len(i) for i in x]).map(lambda x: np.mean(x)).hist(by=data['category'], color=\"g\", alpha=0.5, bins=50, stacked=True, figsize=(10, 5))"
      ],
      "execution_count": 58,
      "outputs": [
        {
          "output_type": "stream",
          "text": [
            "/usr/local/lib/python3.6/dist-packages/numpy/core/fromnumeric.py:3373: RuntimeWarning: Mean of empty slice.\n",
            "  out=out, **kwargs)\n",
            "/usr/local/lib/python3.6/dist-packages/numpy/core/_methods.py:170: RuntimeWarning: invalid value encountered in double_scalars\n",
            "  ret = ret.dtype.type(ret / rcount)\n"
          ],
          "name": "stderr"
        },
        {
          "output_type": "execute_result",
          "data": {
            "text/plain": [
              "array([<matplotlib.axes._subplots.AxesSubplot object at 0x7f31f5913a20>,\n",
              "       <matplotlib.axes._subplots.AxesSubplot object at 0x7f31f7ee6828>],\n",
              "      dtype=object)"
            ]
          },
          "metadata": {
            "tags": []
          },
          "execution_count": 58
        },
        {
          "output_type": "display_data",
          "data": {
            "image/png": "[encoded data removed]",
            "text/plain": [
              "<Figure size 720x360 with 2 Axes>"
            ]
          },
          "metadata": {
            "tags": [],
            "needs_background": "light"
          }
        }
      ]
    },
    {
      "cell_type": "markdown",
      "metadata": {
        "id": "4M_xtq1T3LrM"
      },
      "source": [
        "Erneute Kopie der beiden Kategorien."
      ]
    },
    {
      "cell_type": "code",
      "metadata": {
        "id": "WPilTAXm3ImM"
      },
      "source": [
        "clickbaits=data[data.category==\"others\"].copy()\n",
        "not_clickbaits=data[data.category==\"wiki\"].copy()"
      ],
      "execution_count": 59,
      "outputs": []
    },
    {
      "cell_type": "code",
      "metadata": {
        "colab": {
          "base_uri": "https://localhost:8080/",
          "height": 419
        },
        "id": "nHcKwIYzv2bV",
        "outputId": "24e4f75e-0eae-444c-e836-8f14b50775dc"
      },
      "source": [
        "clickbaits\n",
        "clickbaits.reset_index(drop=True)"
      ],
      "execution_count": 60,
      "outputs": [
        {
          "output_type": "execute_result",
          "data": {
            "text/html": [
              "<div>\n",
              "<style scoped>\n",
              "    .dataframe tbody tr th:only-of-type {\n",
              "        vertical-align: middle;\n",
              "    }\n",
              "\n",
              "    .dataframe tbody tr th {\n",
              "        vertical-align: top;\n",
              "    }\n",
              "\n",
              "    .dataframe thead th {\n",
              "        text-align: right;\n",
              "    }\n",
              "</style>\n",
              "<table border=\"1\" class=\"dataframe\">\n",
              "  <thead>\n",
              "    <tr style=\"text-align: right;\">\n",
              "      <th></th>\n",
              "      <th>title</th>\n",
              "      <th>origin</th>\n",
              "      <th>category</th>\n",
              "    </tr>\n",
              "  </thead>\n",
              "  <tbody>\n",
              "    <tr>\n",
              "      <th>0</th>\n",
              "      <td>Neue Leitlinie für Medikament zur Geburtseinle...</td>\n",
              "      <td>buzzfeed</td>\n",
              "      <td>others</td>\n",
              "    </tr>\n",
              "    <tr>\n",
              "      <th>1</th>\n",
              "      <td>16 Menschen, die definitiv nicht in die Nähe v...</td>\n",
              "      <td>buzzfeed</td>\n",
              "      <td>others</td>\n",
              "    </tr>\n",
              "    <tr>\n",
              "      <th>2</th>\n",
              "      <td>18 Ehemänner verraten, wann ihnen klar wurde, ...</td>\n",
              "      <td>buzzfeed</td>\n",
              "      <td>others</td>\n",
              "    </tr>\n",
              "    <tr>\n",
              "      <th>3</th>\n",
              "      <td>18 Dinge, die du Supermarkt-Angestellten in Ze...</td>\n",
              "      <td>buzzfeed</td>\n",
              "      <td>others</td>\n",
              "    </tr>\n",
              "    <tr>\n",
              "      <th>4</th>\n",
              "      <td>Die Bundesländer wollen mehr kranke Arbeiter e...</td>\n",
              "      <td>buzzfeed</td>\n",
              "      <td>others</td>\n",
              "    </tr>\n",
              "    <tr>\n",
              "      <th>...</th>\n",
              "      <td>...</td>\n",
              "      <td>...</td>\n",
              "      <td>...</td>\n",
              "    </tr>\n",
              "    <tr>\n",
              "      <th>59392</th>\n",
              "      <td>Eröffnung der Berlinale 2014: Die Top und Flop...</td>\n",
              "      <td>promi</td>\n",
              "      <td>others</td>\n",
              "    </tr>\n",
              "    <tr>\n",
              "      <th>59393</th>\n",
              "      <td>Die \"Wüstenblume\": Das ist die echte Waris Dirie</td>\n",
              "      <td>promi</td>\n",
              "      <td>others</td>\n",
              "    </tr>\n",
              "    <tr>\n",
              "      <th>59394</th>\n",
              "      <td>Barbara Schöneberger findet Helene Fischer per...</td>\n",
              "      <td>promi</td>\n",
              "      <td>others</td>\n",
              "    </tr>\n",
              "    <tr>\n",
              "      <th>59395</th>\n",
              "      <td>Sylvie Meis: Fake-Seite veröffentlicht gefälsc...</td>\n",
              "      <td>promi</td>\n",
              "      <td>others</td>\n",
              "    </tr>\n",
              "    <tr>\n",
              "      <th>59396</th>\n",
              "      <td>Oscar-Nominierungen 2014: Beste Hauptdarsteller</td>\n",
              "      <td>promi</td>\n",
              "      <td>others</td>\n",
              "    </tr>\n",
              "  </tbody>\n",
              "</table>\n",
              "<p>59397 rows × 3 columns</p>\n",
              "</div>"
            ],
            "text/plain": [
              "                                                   title    origin category\n",
              "0      Neue Leitlinie für Medikament zur Geburtseinle...  buzzfeed   others\n",
              "1      16 Menschen, die definitiv nicht in die Nähe v...  buzzfeed   others\n",
              "2      18 Ehemänner verraten, wann ihnen klar wurde, ...  buzzfeed   others\n",
              "3      18 Dinge, die du Supermarkt-Angestellten in Ze...  buzzfeed   others\n",
              "4      Die Bundesländer wollen mehr kranke Arbeiter e...  buzzfeed   others\n",
              "...                                                  ...       ...      ...\n",
              "59392  Eröffnung der Berlinale 2014: Die Top und Flop...     promi   others\n",
              "59393   Die \"Wüstenblume\": Das ist die echte Waris Dirie     promi   others\n",
              "59394  Barbara Schöneberger findet Helene Fischer per...     promi   others\n",
              "59395  Sylvie Meis: Fake-Seite veröffentlicht gefälsc...     promi   others\n",
              "59396    Oscar-Nominierungen 2014: Beste Hauptdarsteller     promi   others\n",
              "\n",
              "[59397 rows x 3 columns]"
            ]
          },
          "metadata": {
            "tags": []
          },
          "execution_count": 60
        }
      ]
    },
    {
      "cell_type": "code",
      "metadata": {
        "colab": {
          "base_uri": "https://localhost:8080/",
          "height": 419
        },
        "id": "qfrCTd6YqC30",
        "outputId": "350da992-a169-47f1-9437-57e17f38af63"
      },
      "source": [
        "not_clickbaits\n",
        "not_clickbaits.reset_index(drop=True)"
      ],
      "execution_count": 61,
      "outputs": [
        {
          "output_type": "execute_result",
          "data": {
            "text/html": [
              "<div>\n",
              "<style scoped>\n",
              "    .dataframe tbody tr th:only-of-type {\n",
              "        vertical-align: middle;\n",
              "    }\n",
              "\n",
              "    .dataframe tbody tr th {\n",
              "        vertical-align: top;\n",
              "    }\n",
              "\n",
              "    .dataframe thead th {\n",
              "        text-align: right;\n",
              "    }\n",
              "</style>\n",
              "<table border=\"1\" class=\"dataframe\">\n",
              "  <thead>\n",
              "    <tr style=\"text-align: right;\">\n",
              "      <th></th>\n",
              "      <th>title</th>\n",
              "      <th>origin</th>\n",
              "      <th>category</th>\n",
              "    </tr>\n",
              "  </thead>\n",
              "  <tbody>\n",
              "    <tr>\n",
              "      <th>0</th>\n",
              "      <td>Parlamentswahlen in Myanmar: Manipulationsvorw...</td>\n",
              "      <td>wiki</td>\n",
              "      <td>wiki</td>\n",
              "    </tr>\n",
              "    <tr>\n",
              "      <th>1</th>\n",
              "      <td>Geringe Wahlbeteiligung in Mecklenburg-Vorpommern</td>\n",
              "      <td>wiki</td>\n",
              "      <td>wiki</td>\n",
              "    </tr>\n",
              "    <tr>\n",
              "      <th>2</th>\n",
              "      <td>David Irving vorzeitig aus der Haft entlassen</td>\n",
              "      <td>wiki</td>\n",
              "      <td>wiki</td>\n",
              "    </tr>\n",
              "    <tr>\n",
              "      <th>3</th>\n",
              "      <td>Rätselraten um Hinrichtungstermin Saddams</td>\n",
              "      <td>wiki</td>\n",
              "      <td>wiki</td>\n",
              "    </tr>\n",
              "    <tr>\n",
              "      <th>4</th>\n",
              "      <td>Putin unterstützt Wunsch Indiens nach einem fe...</td>\n",
              "      <td>wiki</td>\n",
              "      <td>wiki</td>\n",
              "    </tr>\n",
              "    <tr>\n",
              "      <th>...</th>\n",
              "      <td>...</td>\n",
              "      <td>...</td>\n",
              "      <td>...</td>\n",
              "    </tr>\n",
              "    <tr>\n",
              "      <th>9995</th>\n",
              "      <td>Luis AG will ab September Elektroautos anbieten</td>\n",
              "      <td>wiki</td>\n",
              "      <td>wiki</td>\n",
              "    </tr>\n",
              "    <tr>\n",
              "      <th>9996</th>\n",
              "      <td>Politiker kritisieren Hartz IV</td>\n",
              "      <td>wiki</td>\n",
              "      <td>wiki</td>\n",
              "    </tr>\n",
              "    <tr>\n",
              "      <th>9997</th>\n",
              "      <td>\"La Juive\" erstmals seit 1931 an der Bayerisch...</td>\n",
              "      <td>wiki</td>\n",
              "      <td>wiki</td>\n",
              "    </tr>\n",
              "    <tr>\n",
              "      <th>9998</th>\n",
              "      <td>Neapel: Razzia gegen die Camorra – Berlusconi-...</td>\n",
              "      <td>wiki</td>\n",
              "      <td>wiki</td>\n",
              "    </tr>\n",
              "    <tr>\n",
              "      <th>9999</th>\n",
              "      <td>Gazastreifen – Grenzöffnung nach Ägypten</td>\n",
              "      <td>wiki</td>\n",
              "      <td>wiki</td>\n",
              "    </tr>\n",
              "  </tbody>\n",
              "</table>\n",
              "<p>10000 rows × 3 columns</p>\n",
              "</div>"
            ],
            "text/plain": [
              "                                                  title origin category\n",
              "0     Parlamentswahlen in Myanmar: Manipulationsvorw...   wiki     wiki\n",
              "1     Geringe Wahlbeteiligung in Mecklenburg-Vorpommern   wiki     wiki\n",
              "2         David Irving vorzeitig aus der Haft entlassen   wiki     wiki\n",
              "3             Rätselraten um Hinrichtungstermin Saddams   wiki     wiki\n",
              "4     Putin unterstützt Wunsch Indiens nach einem fe...   wiki     wiki\n",
              "...                                                 ...    ...      ...\n",
              "9995    Luis AG will ab September Elektroautos anbieten   wiki     wiki\n",
              "9996                     Politiker kritisieren Hartz IV   wiki     wiki\n",
              "9997  \"La Juive\" erstmals seit 1931 an der Bayerisch...   wiki     wiki\n",
              "9998  Neapel: Razzia gegen die Camorra – Berlusconi-...   wiki     wiki\n",
              "9999           Gazastreifen – Grenzöffnung nach Ägypten   wiki     wiki\n",
              "\n",
              "[10000 rows x 3 columns]"
            ]
          },
          "metadata": {
            "tags": []
          },
          "execution_count": 61
        }
      ]
    },
    {
      "cell_type": "markdown",
      "metadata": {
        "id": "ZZhxo40ALEc2"
      },
      "source": [
        "Diese Funktion führt das POS-tagging durch. Es dauert mehrere Minuten bis sie fertig ist."
      ]
    },
    {
      "cell_type": "code",
      "metadata": {
        "id": "ZtOZB7MtFnAj"
      },
      "source": [
        "def make_pos(df, common):\n",
        "    ADJD = []\n",
        "    ADJA = []\n",
        "    PWAT = []\n",
        "    PDAT = []\n",
        "    PIS = []\n",
        "    PWAV = []\n",
        "    PTKA = []\n",
        "    VAFIN = []\n",
        "    PROAV = []\n",
        "    ADV = []\n",
        "\n",
        "    return_dict = dict()\n",
        "\n",
        "    for title in df:\n",
        "        for token in nlp(str(title).lower()):\n",
        "            if token.tag_ == \"ADJD\":\n",
        "                ADJD.append(token)\n",
        "            if token.tag_ == \"ADJA\":\n",
        "                ADJA.append(token)\n",
        "            if token.tag_ == \"PWAT\":\n",
        "                PWAT.append(token)\n",
        "            if token.tag_ == \"PDAT\":\n",
        "                PDAT.append(token)\n",
        "            if token.tag_ == \"PIS\":\n",
        "                PIS.append(token)\n",
        "            if token.tag_ == \"PWAV\":\n",
        "                PWAV.append(token)\n",
        "            if token.tag_ == \"PTKA\":\n",
        "                PTKA.append(token)\n",
        "            if token.tag_ == \"VAFIN\":\n",
        "                VAFIN.append(token)\n",
        "            if token.tag_ == \"PROAV\":\n",
        "                PROAV.append(token)\n",
        "            if token.tag_ == \"ADV\":\n",
        "                ADV.append(token)\n",
        "    \n",
        "    job_list = [ADJD, ADJA, PWAT, PDAT, PIS, PWAV, PTKA, VAFIN, PROAV, ADV]\n",
        "    jobs = {\"ADJD\": ADJD, \"ADJA\": ADJA, \"PWAT\": PWAT, \"PDAT\": PDAT, \"PIS\": PIS, \"PWAV\": PWAV, \"PTKA\": PTKA, \"VAFIN\": VAFIN, \"PROAV\": PROAV, \"ADV\": ADV}\n",
        "\n",
        "    for key, value in jobs.items():\n",
        "        lemmas_job = [x.lemma_ for x in value]\n",
        "        freq_job = Counter(lemmas_job)\n",
        "        return_dict.update({key:{\"freq_words\": freq_job.most_common(common), \"sum\": len(freq_job)}})\n",
        "\n",
        "\n",
        "    return return_dict"
      ],
      "execution_count": 37,
      "outputs": []
    },
    {
      "cell_type": "code",
      "metadata": {
        "id": "cjoYdtNmFvT9"
      },
      "source": [
        "data = make_pos(clickbaits[\"title\"], 5)"
      ],
      "execution_count": null,
      "outputs": []
    },
    {
      "cell_type": "code",
      "metadata": {
        "colab": {
          "base_uri": "https://localhost:8080/"
        },
        "id": "1vYGSbnAHrnV",
        "outputId": "ab78872a-d9df-4177-eeda-37ad2c7f9ca5"
      },
      "source": [
        "data"
      ],
      "execution_count": 39,
      "outputs": [
        {
          "output_type": "execute_result",
          "data": {
            "text/plain": [
              "{'ADJA': {'freq_words': [('neu', 1759),\n",
              "   ('neue', 1474),\n",
              "   ('erst', 922),\n",
              "   ('groß', 633),\n",
              "   ('helene', 561)],\n",
              "  'sum': 3282},\n",
              " 'ADJD': {'freq_words': [('tot', 477),\n",
              "   ('früh', 404),\n",
              "   ('wirklich', 349),\n",
              "   ('grey', 344),\n",
              "   ('gut', 300)],\n",
              "  'sum': 1814},\n",
              " 'ADV': {'freq_words': [('so', 5142),\n",
              "   ('heute', 1649),\n",
              "   ('jetzt', 922),\n",
              "   ('wieder', 821),\n",
              "   ('noch', 758)],\n",
              "  'sum': 549},\n",
              " 'PDAT': {'freq_words': [('dies', 3566),\n",
              "   ('derselbe', 8),\n",
              "   ('mabuses', 2),\n",
              "   ('derrick', 1),\n",
              "   ('mysteriös', 1)],\n",
              "  'sum': 7},\n",
              " 'PIS': {'freq_words': [('alle', 332),\n",
              "   ('man', 325),\n",
              "   ('viel', 168),\n",
              "   ('all', 135),\n",
              "   ('nichts', 85)],\n",
              "  'sum': 58},\n",
              " 'PROAV': {'freq_words': [('darum', 588),\n",
              "   ('bieber', 294),\n",
              "   ('deshalb', 251),\n",
              "   ('dabei', 216),\n",
              "   ('dazu', 90)],\n",
              "  'sum': 44},\n",
              " 'PTKA': {'freq_words': [('zu', 185), ('am', 93), ('allzu', 3)], 'sum': 3},\n",
              " 'PWAT': {'freq_words': [('welch', 154), ('wieviel', 2), ('wer', 1)],\n",
              "  'sum': 3},\n",
              " 'PWAV': {'freq_words': [('wie', 488),\n",
              "   ('warum', 184),\n",
              "   ('wo', 66),\n",
              "   ('wann', 63),\n",
              "   ('wow', 48)],\n",
              "  'sum': 22},\n",
              " 'VAFIN': {'freq_words': [('sein', 8247),\n",
              "   ('werden', 3382),\n",
              "   ('haben', 3120),\n",
              "   ('habe', 134),\n",
              "   ('wollny', 38)],\n",
              "  'sum': 19}}"
            ]
          },
          "metadata": {
            "tags": []
          },
          "execution_count": 39
        }
      ]
    }
  ]
}